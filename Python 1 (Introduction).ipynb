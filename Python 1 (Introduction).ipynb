{
 "cells": [
  {
   "cell_type": "markdown",
   "metadata": {},
   "source": [
    "# Introduction\n",
    "\n",
    "It was founded in 1991 by developer Guido Van Rossum. \n",
    "\n",
    "Python ranks among the most popular and fastest-growing languages in the world.\n",
    "\n",
    "Python is a high-level and a very popular programming language.\n",
    "\n",
    "Python allows programming in Object-Oriented and Procedural paradigms.\n",
    "\n",
    "Python is a powerful, flexible, and easy-to-use language.\n",
    "\n",
    "Python language is being used by almost all tech-giant companies like – \n",
    "\n",
    "Google, Amazon, Facebook, Instagram, Dropbox, Uber… etc.\n",
    "Machine Learning\n",
    "GUI Applications (like Kivy, Tkinter, PyQt etc. )\n",
    "Web frameworks like Django (used by YouTube, Instagram, Dropbox)\n",
    "Image processing (like OpenCV, Pillow)\n",
    "Web scraping (like Scrapy, BeautifulSoup, Selenium)\n",
    "Test frameworks\n",
    "Multimedia\n",
    "Scientific computing\n",
    "Text processing and many more.."
   ]
  },
  {
   "cell_type": "markdown",
   "metadata": {},
   "source": [
    "# Applications : \n",
    "GUI based desktop applications\n",
    "Graphic design, image processing applications, Games, and Scientific/ computational Applications\n",
    "Web frameworks and applications \n",
    " Enterprise and Business applications \n",
    " Operating Systems \n",
    "Education\n",
    "Database Access\n",
    "Language Development \n",
    " Prototyping \n",
    "Software Development"
   ]
  },
  {
   "cell_type": "code",
   "execution_count": 6,
   "metadata": {},
   "outputs": [
    {
     "name": "stdout",
     "output_type": "stream",
     "text": [
      "Hello! World.\n"
     ]
    }
   ],
   "source": [
    "print(\"Hello! World.\")\n",
    "#To print something on the console, print() function is used."
   ]
  },
  {
   "cell_type": "code",
   "execution_count": null,
   "metadata": {},
   "outputs": [],
   "source": []
  }
 ],
 "metadata": {
  "kernelspec": {
   "display_name": "Python 3",
   "language": "python",
   "name": "python3"
  },
  "language_info": {
   "codemirror_mode": {
    "name": "ipython",
    "version": 3
   },
   "file_extension": ".py",
   "mimetype": "text/x-python",
   "name": "python",
   "nbconvert_exporter": "python",
   "pygments_lexer": "ipython3",
   "version": "3.8.5"
  }
 },
 "nbformat": 4,
 "nbformat_minor": 4
}

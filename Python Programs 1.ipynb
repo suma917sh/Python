{
 "cells": [
  {
   "cell_type": "markdown",
   "metadata": {},
   "source": [
    "# 1) Find out whether the given number is an armstrong number or not \n",
    "#### Armstrong numbers are the number of nth digit which is equal to the sum of nth power of its digit."
   ]
  },
  {
   "cell_type": "code",
   "execution_count": 1,
   "metadata": {},
   "outputs": [
    {
     "name": "stdout",
     "output_type": "stream",
     "text": [
      "1\n",
      "2\n",
      "3\n",
      "4\n",
      "5\n",
      "6\n",
      "7\n",
      "8\n",
      "9\n",
      "25\n",
      "36\n",
      "125\n",
      "153\n",
      "216\n",
      "370\n",
      "371\n",
      "407\n",
      "729\n"
     ]
    }
   ],
   "source": [
    "for i in range(1001):\n",
    "    num=i\n",
    "    result=0\n",
    "    n=len(str(i))\n",
    "    while(i!=0):\n",
    "        digit=i%10\n",
    "        result=result+digit**n\n",
    "        i=i//10\n",
    "        if num==result:\n",
    "            print(num)"
   ]
  },
  {
   "cell_type": "markdown",
   "metadata": {},
   "source": [
    "# 2) Print prime number in specific field\n",
    "### Prime Number: Is a natural number greater than 1 that has no positive divisors other 1 and itself"
   ]
  },
  {
   "cell_type": "code",
   "execution_count": 3,
   "metadata": {},
   "outputs": [
    {
     "name": "stdout",
     "output_type": "stream",
     "text": [
      "Enter a lower interval: 4\n",
      "Enter a upper Interval: 25\n",
      "5\n",
      "7\n",
      "11\n",
      "13\n",
      "17\n",
      "19\n",
      "23\n"
     ]
    }
   ],
   "source": [
    "lower=int(input(\"Enter a lower interval: \"))\n",
    "upper=int(input(\"Enter a upper Interval: \"))\n",
    "for num in range(lower,upper+1):\n",
    "    if num>1:\n",
    "        for i in range(2,num):\n",
    "            if (num%i)==0:\n",
    "                break\n",
    "        else:\n",
    "            print(num)\n",
    "            "
   ]
  },
  {
   "cell_type": "markdown",
   "metadata": {},
   "source": [
    "# 3) LCM of two numbers\n",
    "### LCM (Least or lower common multiple)\n",
    "\"Smallest non zero common number ,which is the multiple of both the number\""
   ]
  },
  {
   "cell_type": "code",
   "execution_count": 7,
   "metadata": {},
   "outputs": [
    {
     "name": "stdout",
     "output_type": "stream",
     "text": [
      "Enter the first number:24\n",
      "Enter the second number:36\n",
      "lcm of 24 and 36 is 72\n"
     ]
    }
   ],
   "source": [
    "def compute_lcm(n1,n2):\n",
    "    if n1>n2:\n",
    "        higher=n1\n",
    "    else:\n",
    "        higher=n2\n",
    "    value=higher\n",
    "    while True:\n",
    "        if higher%n1==0 and higher%n2==0:\n",
    "            print(\"lcm of\",n1,\"and\",n2, \"is\",higher)\n",
    "            break\n",
    "        else:\n",
    "            higher=higher+value\n",
    "n1=int(input(\"Enter the first number:\"))\n",
    "n2=int(input(\"Enter the second number:\"))\n",
    "compute_lcm(n1,n2)\n",
    "        \n"
   ]
  },
  {
   "cell_type": "code",
   "execution_count": 16,
   "metadata": {},
   "outputs": [
    {
     "data": {
      "text/plain": [
       "5"
      ]
     },
     "execution_count": 16,
     "metadata": {},
     "output_type": "execute_result"
    }
   ],
   "source": [
    "import math\n",
    "num=math.gcd(20,45)\n",
    "num"
   ]
  },
  {
   "cell_type": "markdown",
   "metadata": {},
   "source": [
    "# 4) GCD or HCFof two numbers \n",
    "## GCD(Greatest common diviser) or HCF(Highest common factor)"
   ]
  },
  {
   "cell_type": "code",
   "execution_count": 3,
   "metadata": {},
   "outputs": [
    {
     "data": {
      "text/plain": [
       "24"
      ]
     },
     "execution_count": 3,
     "metadata": {},
     "output_type": "execute_result"
    }
   ],
   "source": [
    "#Euclidian Algorithm\n",
    "import math\n",
    "math.gcd(24,48)"
   ]
  },
  {
   "cell_type": "code",
   "execution_count": 8,
   "metadata": {},
   "outputs": [
    {
     "name": "stdout",
     "output_type": "stream",
     "text": [
      "Enter the first number: 24\n",
      "Enter the second number: 48\n",
      "24\n"
     ]
    }
   ],
   "source": [
    "def compute_gcd(a,b):\n",
    "    if b==0:\n",
    "        return a\n",
    "    else:\n",
    "        return compute_gcd(b,a%b)\n",
    "num1=int(input(\"Enter the first number: \"))\n",
    "num2=int(input(\"Enter the second number: \"))\n",
    "print(compute_gcd(num1,num2))        "
   ]
  },
  {
   "cell_type": "markdown",
   "metadata": {},
   "source": [
    "# 5) To print Fibonacci numbers\n",
    "### 0,1,2,3,5,8,13........"
   ]
  },
  {
   "cell_type": "code",
   "execution_count": 11,
   "metadata": {},
   "outputs": [
    {
     "name": "stdout",
     "output_type": "stream",
     "text": [
      "Enter how many numbers you want in this series: 8\n",
      "0\n",
      "1\n",
      "1\n",
      "2\n",
      "3\n",
      "5\n",
      "8\n",
      "13\n"
     ]
    }
   ],
   "source": [
    "n=int(input(\"Enter how many numbers you want in this series: \"))\n",
    "first=0\n",
    "second=1\n",
    "for i in range(n):\n",
    "    print(first)\n",
    "    temp=first\n",
    "    first=second\n",
    "    second=temp+second"
   ]
  },
  {
   "cell_type": "code",
   "execution_count": null,
   "metadata": {},
   "outputs": [],
   "source": []
  }
 ],
 "metadata": {
  "kernelspec": {
   "display_name": "Python 3",
   "language": "python",
   "name": "python3"
  },
  "language_info": {
   "codemirror_mode": {
    "name": "ipython",
    "version": 3
   },
   "file_extension": ".py",
   "mimetype": "text/x-python",
   "name": "python",
   "nbconvert_exporter": "python",
   "pygments_lexer": "ipython3",
   "version": "3.8.5"
  }
 },
 "nbformat": 4,
 "nbformat_minor": 4
}
